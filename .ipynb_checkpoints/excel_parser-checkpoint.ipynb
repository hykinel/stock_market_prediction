{
 "cells": [
  {
   "cell_type": "code",
   "execution_count": 2,
   "metadata": {
    "collapsed": true
   },
   "outputs": [],
   "source": [
    "import xlrd\n",
    "import sys\n",
    "import csv\n",
    "import numpy as np"
   ]
  },
  {
   "cell_type": "code",
   "execution_count": 3,
   "metadata": {
    "collapsed": true
   },
   "outputs": [],
   "source": [
    "book = xlrd.open_workbook('5MIN Data for FirstMetroSec Universe.xlsx', on_demand=True)"
   ]
  },
  {
   "cell_type": "code",
   "execution_count": 4,
   "metadata": {
    "collapsed": true
   },
   "outputs": [],
   "source": [
    "def get_day(xldate):\n",
    "    date_tuple = xlrd.xldate_as_tuple(xldate.value, 0)\n",
    "    return date_tuple[2]"
   ]
  },
  {
   "cell_type": "code",
   "execution_count": 5,
   "metadata": {
    "collapsed": true
   },
   "outputs": [],
   "source": [
    "def summarize_for_the_day(daily, op, high, low, vols):\n",
    "    first = daily[0][0]\n",
    "    last = daily[-1][-1]\n",
    "    vols = np.array(vols)\n",
    "    ave = np.average(vols)\n",
    "    return [first/op, high/op, low/op, last/op, ave]"
   ]
  },
  {
   "cell_type": "code",
   "execution_count": 9,
   "metadata": {
    "collapsed": false,
    "scrolled": false
   },
   "outputs": [
    {
     "name": "stdout",
     "output_type": "stream",
     "text": [
      "Max days: 126\n"
     ]
    }
   ],
   "source": [
    "with open('fms-training.csv', 'wb') as csvfile:\n",
    "    writer = csv.writer(csvfile, delimiter=',')\n",
    "    \n",
    "    # write header row, knowing max_days\n",
    "    max_days = 126\n",
    "    hlist = ['StId']\n",
    "    for day in xrange(1, max_days + 1):\n",
    "        i = str(day)\n",
    "        hlist.extend(['O'+i, 'MA'+i, 'MI'+i, 'C'+i, 'V'+i])\n",
    "    writer.writerow(hlist)\n",
    "    \n",
    "    max_len = -sys.maxint\n",
    "    stid = 1\n",
    "    for sheet_idx in xrange(2, book.nsheets):\n",
    "        sheet = book.sheet_by_index(sheet_idx)\n",
    "        name = sheet.cell(0,0).value\n",
    "\n",
    "        # save daily values over a long period\n",
    "        stocks = list()\n",
    "\n",
    "        # parse individual rows starting from row 4\n",
    "        start = 3\n",
    "\n",
    "        # save daily values\n",
    "        prev_date = sheet.cell(start, 0)\n",
    "        opening = sheet.cell(start, 1).value\n",
    "        ticks = list()\n",
    "        vols = list()\n",
    "        low = sys.maxint\n",
    "        high = -sys.maxint\n",
    "\n",
    "        for row_idx in xrange(start, sheet.nrows):\n",
    "            date = sheet.cell(row_idx, 0)\n",
    "\n",
    "            # check if start of new day or in last entry\n",
    "            if get_day(date) != get_day(prev_date):\n",
    "                # process existing collection of ticks\n",
    "                # print xlrd.xldate_as_tuple(prev_date.value, 0)\n",
    "                for_the_day = summarize_for_the_day(ticks, opening, high, low, vols)\n",
    "                # print 'Summary:', for_the_day\n",
    "                stocks.extend(for_the_day)\n",
    "\n",
    "                # flush data\n",
    "                prev_date = date\n",
    "                del ticks[:]\n",
    "                del vols[:]\n",
    "                low = sys.maxint\n",
    "                high = -sys.maxint\n",
    "\n",
    "            # save 5-min interval values\n",
    "            # open, high, low, last\n",
    "            tick =  [\n",
    "                        sheet.cell(row_idx, 1).value, \n",
    "                        sheet.cell(row_idx, 2).value, \n",
    "                        sheet.cell(row_idx, 3).value, \n",
    "                        sheet.cell(row_idx, 4).value\n",
    "                    ]\n",
    "            ticks.append(tick)\n",
    "            high = max(high, tick[1])\n",
    "            low = min(low, tick[2])\n",
    "            \n",
    "            # volume data\n",
    "            vols.append(sheet.cell(row_idx, 5).value)\n",
    "\n",
    "            row_idx += 1\n",
    "\n",
    "        # process last day that did not qualify for change day\n",
    "        # print xlrd.xldate_as_tuple(prev_date.value, 0)\n",
    "        for_the_day = summarize_for_the_day(ticks, opening, high, low, vols)\n",
    "        # print 'Summary:', for_the_day\n",
    "        stocks.extend(for_the_day)\n",
    "        max_len = max(max_len, len(stocks))\n",
    "\n",
    "        # convert long list to numpy array\n",
    "        stocks = np.array(stocks)\n",
    "        stocks = np.divide(stocks, stocks[0])\n",
    "        # print name, stocks\n",
    "    \n",
    "        # write as one row\n",
    "        row = [stid]\n",
    "        stid += 1\n",
    "        row.extend(stocks.tolist())\n",
    "        writer.writerow(row)\n",
    "    \n",
    "    print 'Max days:', max_len/5\n",
    "    # write header row at top\n",
    "    # find a better way to insert a row at the top of csv\n",
    "    \n",
    "    "
   ]
  }
 ],
 "metadata": {
  "kernelspec": {
   "display_name": "Python 2",
   "language": "python",
   "name": "python2"
  },
  "language_info": {
   "codemirror_mode": {
    "name": "ipython",
    "version": 2
   },
   "file_extension": ".py",
   "mimetype": "text/x-python",
   "name": "python",
   "nbconvert_exporter": "python",
   "pygments_lexer": "ipython2",
   "version": "2.7.11"
  }
 },
 "nbformat": 4,
 "nbformat_minor": 0
}
